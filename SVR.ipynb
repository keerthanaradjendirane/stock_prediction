{
 "cells": [
  {
   "cell_type": "code",
   "execution_count": 59,
   "id": "bd18edbe",
   "metadata": {},
   "outputs": [],
   "source": [
    "import numpy as np\n",
    "import pandas as pd\n",
    "from sklearn.model_selection import train_test_split\n",
    "from sklearn.metrics import accuracy_score\n",
    "from sklearn.svm import SVR\n",
    "from sklearn.metrics import mean_squared_error"
   ]
  },
  {
   "cell_type": "code",
   "execution_count": 60,
   "id": "8afb79e3",
   "metadata": {},
   "outputs": [],
   "source": [
    "data=pd.read_csv('stockdata.csv')"
   ]
  },
  {
   "cell_type": "code",
   "execution_count": 61,
   "id": "6d9aca7a",
   "metadata": {},
   "outputs": [
    {
     "data": {
      "text/html": [
       "<div>\n",
       "<style scoped>\n",
       "    .dataframe tbody tr th:only-of-type {\n",
       "        vertical-align: middle;\n",
       "    }\n",
       "\n",
       "    .dataframe tbody tr th {\n",
       "        vertical-align: top;\n",
       "    }\n",
       "\n",
       "    .dataframe thead th {\n",
       "        text-align: right;\n",
       "    }\n",
       "</style>\n",
       "<table border=\"1\" class=\"dataframe\">\n",
       "  <thead>\n",
       "    <tr style=\"text-align: right;\">\n",
       "      <th></th>\n",
       "      <th>PreviousClose</th>\n",
       "      <th>Open</th>\n",
       "      <th>High</th>\n",
       "      <th>Low</th>\n",
       "      <th>Last</th>\n",
       "      <th>Close</th>\n",
       "    </tr>\n",
       "  </thead>\n",
       "  <tbody>\n",
       "    <tr>\n",
       "      <th>0</th>\n",
       "      <td>24.70</td>\n",
       "      <td>26.7</td>\n",
       "      <td>26.70</td>\n",
       "      <td>26.70</td>\n",
       "      <td>26.70</td>\n",
       "      <td>26.70</td>\n",
       "    </tr>\n",
       "    <tr>\n",
       "      <th>1</th>\n",
       "      <td>26.70</td>\n",
       "      <td>27.0</td>\n",
       "      <td>28.70</td>\n",
       "      <td>26.50</td>\n",
       "      <td>27.00</td>\n",
       "      <td>26.85</td>\n",
       "    </tr>\n",
       "    <tr>\n",
       "      <th>2</th>\n",
       "      <td>26.85</td>\n",
       "      <td>26.0</td>\n",
       "      <td>27.75</td>\n",
       "      <td>25.50</td>\n",
       "      <td>26.40</td>\n",
       "      <td>26.30</td>\n",
       "    </tr>\n",
       "    <tr>\n",
       "      <th>3</th>\n",
       "      <td>26.30</td>\n",
       "      <td>25.8</td>\n",
       "      <td>27.00</td>\n",
       "      <td>25.80</td>\n",
       "      <td>25.90</td>\n",
       "      <td>25.95</td>\n",
       "    </tr>\n",
       "    <tr>\n",
       "      <th>4</th>\n",
       "      <td>25.95</td>\n",
       "      <td>25.0</td>\n",
       "      <td>26.00</td>\n",
       "      <td>24.25</td>\n",
       "      <td>25.00</td>\n",
       "      <td>24.80</td>\n",
       "    </tr>\n",
       "    <tr>\n",
       "      <th>...</th>\n",
       "      <td>...</td>\n",
       "      <td>...</td>\n",
       "      <td>...</td>\n",
       "      <td>...</td>\n",
       "      <td>...</td>\n",
       "      <td>...</td>\n",
       "    </tr>\n",
       "    <tr>\n",
       "      <th>5301</th>\n",
       "      <td>671.35</td>\n",
       "      <td>694.0</td>\n",
       "      <td>703.80</td>\n",
       "      <td>684.50</td>\n",
       "      <td>699.50</td>\n",
       "      <td>700.45</td>\n",
       "    </tr>\n",
       "    <tr>\n",
       "      <th>5302</th>\n",
       "      <td>700.45</td>\n",
       "      <td>691.1</td>\n",
       "      <td>703.90</td>\n",
       "      <td>684.10</td>\n",
       "      <td>700.90</td>\n",
       "      <td>699.55</td>\n",
       "    </tr>\n",
       "    <tr>\n",
       "      <th>5303</th>\n",
       "      <td>699.55</td>\n",
       "      <td>708.0</td>\n",
       "      <td>712.50</td>\n",
       "      <td>688.15</td>\n",
       "      <td>705.95</td>\n",
       "      <td>708.15</td>\n",
       "    </tr>\n",
       "    <tr>\n",
       "      <th>5304</th>\n",
       "      <td>708.15</td>\n",
       "      <td>712.0</td>\n",
       "      <td>726.90</td>\n",
       "      <td>707.00</td>\n",
       "      <td>717.10</td>\n",
       "      <td>719.40</td>\n",
       "    </tr>\n",
       "    <tr>\n",
       "      <th>5305</th>\n",
       "      <td>719.40</td>\n",
       "      <td>705.0</td>\n",
       "      <td>729.85</td>\n",
       "      <td>705.00</td>\n",
       "      <td>711.65</td>\n",
       "      <td>714.90</td>\n",
       "    </tr>\n",
       "  </tbody>\n",
       "</table>\n",
       "<p>5306 rows × 6 columns</p>\n",
       "</div>"
      ],
      "text/plain": [
       "      PreviousClose   Open    High     Low    Last   Close\n",
       "0             24.70   26.7   26.70   26.70   26.70   26.70\n",
       "1             26.70   27.0   28.70   26.50   27.00   26.85\n",
       "2             26.85   26.0   27.75   25.50   26.40   26.30\n",
       "3             26.30   25.8   27.00   25.80   25.90   25.95\n",
       "4             25.95   25.0   26.00   24.25   25.00   24.80\n",
       "...             ...    ...     ...     ...     ...     ...\n",
       "5301         671.35  694.0  703.80  684.50  699.50  700.45\n",
       "5302         700.45  691.1  703.90  684.10  700.90  699.55\n",
       "5303         699.55  708.0  712.50  688.15  705.95  708.15\n",
       "5304         708.15  712.0  726.90  707.00  717.10  719.40\n",
       "5305         719.40  705.0  729.85  705.00  711.65  714.90\n",
       "\n",
       "[5306 rows x 6 columns]"
      ]
     },
     "execution_count": 61,
     "metadata": {},
     "output_type": "execute_result"
    }
   ],
   "source": [
    "data"
   ]
  },
  {
   "cell_type": "code",
   "execution_count": 62,
   "id": "3b05a14b",
   "metadata": {},
   "outputs": [],
   "source": [
    "X=data.drop(['High'],axis=1)"
   ]
  },
  {
   "cell_type": "code",
   "execution_count": 63,
   "id": "35727765",
   "metadata": {},
   "outputs": [],
   "source": [
    "Y=data['High']"
   ]
  },
  {
   "cell_type": "code",
   "execution_count": 64,
   "id": "caea5e45",
   "metadata": {},
   "outputs": [],
   "source": [
    "X_train,X_test,Y_train,Y_test=train_test_split(X,Y,test_size=0.2,random_state=42)"
   ]
  },
  {
   "cell_type": "code",
   "execution_count": 65,
   "id": "7c20899b",
   "metadata": {},
   "outputs": [],
   "source": [
    "model=SVR()"
   ]
  },
  {
   "cell_type": "code",
   "execution_count": 66,
   "id": "a93d6721",
   "metadata": {},
   "outputs": [
    {
     "data": {
      "text/html": [
       "<style>#sk-container-id-3 {color: black;}#sk-container-id-3 pre{padding: 0;}#sk-container-id-3 div.sk-toggleable {background-color: white;}#sk-container-id-3 label.sk-toggleable__label {cursor: pointer;display: block;width: 100%;margin-bottom: 0;padding: 0.3em;box-sizing: border-box;text-align: center;}#sk-container-id-3 label.sk-toggleable__label-arrow:before {content: \"▸\";float: left;margin-right: 0.25em;color: #696969;}#sk-container-id-3 label.sk-toggleable__label-arrow:hover:before {color: black;}#sk-container-id-3 div.sk-estimator:hover label.sk-toggleable__label-arrow:before {color: black;}#sk-container-id-3 div.sk-toggleable__content {max-height: 0;max-width: 0;overflow: hidden;text-align: left;background-color: #f0f8ff;}#sk-container-id-3 div.sk-toggleable__content pre {margin: 0.2em;color: black;border-radius: 0.25em;background-color: #f0f8ff;}#sk-container-id-3 input.sk-toggleable__control:checked~div.sk-toggleable__content {max-height: 200px;max-width: 100%;overflow: auto;}#sk-container-id-3 input.sk-toggleable__control:checked~label.sk-toggleable__label-arrow:before {content: \"▾\";}#sk-container-id-3 div.sk-estimator input.sk-toggleable__control:checked~label.sk-toggleable__label {background-color: #d4ebff;}#sk-container-id-3 div.sk-label input.sk-toggleable__control:checked~label.sk-toggleable__label {background-color: #d4ebff;}#sk-container-id-3 input.sk-hidden--visually {border: 0;clip: rect(1px 1px 1px 1px);clip: rect(1px, 1px, 1px, 1px);height: 1px;margin: -1px;overflow: hidden;padding: 0;position: absolute;width: 1px;}#sk-container-id-3 div.sk-estimator {font-family: monospace;background-color: #f0f8ff;border: 1px dotted black;border-radius: 0.25em;box-sizing: border-box;margin-bottom: 0.5em;}#sk-container-id-3 div.sk-estimator:hover {background-color: #d4ebff;}#sk-container-id-3 div.sk-parallel-item::after {content: \"\";width: 100%;border-bottom: 1px solid gray;flex-grow: 1;}#sk-container-id-3 div.sk-label:hover label.sk-toggleable__label {background-color: #d4ebff;}#sk-container-id-3 div.sk-serial::before {content: \"\";position: absolute;border-left: 1px solid gray;box-sizing: border-box;top: 0;bottom: 0;left: 50%;z-index: 0;}#sk-container-id-3 div.sk-serial {display: flex;flex-direction: column;align-items: center;background-color: white;padding-right: 0.2em;padding-left: 0.2em;position: relative;}#sk-container-id-3 div.sk-item {position: relative;z-index: 1;}#sk-container-id-3 div.sk-parallel {display: flex;align-items: stretch;justify-content: center;background-color: white;position: relative;}#sk-container-id-3 div.sk-item::before, #sk-container-id-3 div.sk-parallel-item::before {content: \"\";position: absolute;border-left: 1px solid gray;box-sizing: border-box;top: 0;bottom: 0;left: 50%;z-index: -1;}#sk-container-id-3 div.sk-parallel-item {display: flex;flex-direction: column;z-index: 1;position: relative;background-color: white;}#sk-container-id-3 div.sk-parallel-item:first-child::after {align-self: flex-end;width: 50%;}#sk-container-id-3 div.sk-parallel-item:last-child::after {align-self: flex-start;width: 50%;}#sk-container-id-3 div.sk-parallel-item:only-child::after {width: 0;}#sk-container-id-3 div.sk-dashed-wrapped {border: 1px dashed gray;margin: 0 0.4em 0.5em 0.4em;box-sizing: border-box;padding-bottom: 0.4em;background-color: white;}#sk-container-id-3 div.sk-label label {font-family: monospace;font-weight: bold;display: inline-block;line-height: 1.2em;}#sk-container-id-3 div.sk-label-container {text-align: center;}#sk-container-id-3 div.sk-container {/* jupyter's `normalize.less` sets `[hidden] { display: none; }` but bootstrap.min.css set `[hidden] { display: none !important; }` so we also need the `!important` here to be able to override the default hidden behavior on the sphinx rendered scikit-learn.org. See: https://github.com/scikit-learn/scikit-learn/issues/21755 */display: inline-block !important;position: relative;}#sk-container-id-3 div.sk-text-repr-fallback {display: none;}</style><div id=\"sk-container-id-3\" class=\"sk-top-container\"><div class=\"sk-text-repr-fallback\"><pre>SVR()</pre><b>In a Jupyter environment, please rerun this cell to show the HTML representation or trust the notebook. <br />On GitHub, the HTML representation is unable to render, please try loading this page with nbviewer.org.</b></div><div class=\"sk-container\" hidden><div class=\"sk-item\"><div class=\"sk-estimator sk-toggleable\"><input class=\"sk-toggleable__control sk-hidden--visually\" id=\"sk-estimator-id-3\" type=\"checkbox\" checked><label for=\"sk-estimator-id-3\" class=\"sk-toggleable__label sk-toggleable__label-arrow\">SVR</label><div class=\"sk-toggleable__content\"><pre>SVR()</pre></div></div></div></div></div>"
      ],
      "text/plain": [
       "SVR()"
      ]
     },
     "execution_count": 66,
     "metadata": {},
     "output_type": "execute_result"
    }
   ],
   "source": [
    "model.fit(X_train,Y_train)"
   ]
  },
  {
   "cell_type": "code",
   "execution_count": 67,
   "id": "7b8dbcfd",
   "metadata": {},
   "outputs": [],
   "source": [
    "predictions=model.predict(X_test)"
   ]
  },
  {
   "cell_type": "code",
   "execution_count": 68,
   "id": "e31fb3f7",
   "metadata": {},
   "outputs": [
    {
     "data": {
      "text/plain": [
       "array([ 93.0550501 , 429.06156864, 678.40727472, ..., 194.69850985,\n",
       "        92.44569348, 523.78440683])"
      ]
     },
     "execution_count": 68,
     "metadata": {},
     "output_type": "execute_result"
    }
   ],
   "source": [
    "predictions"
   ]
  },
  {
   "cell_type": "code",
   "execution_count": 69,
   "id": "ca4302b7",
   "metadata": {},
   "outputs": [],
   "source": [
    "input_data=({'PreviousClose':[2.5],'Open':[3],'Low':[4],'Last':[2],'Close':[2]})"
   ]
  },
  {
   "cell_type": "code",
   "execution_count": 70,
   "id": "21de8e85",
   "metadata": {},
   "outputs": [],
   "source": [
    "input_data=pd.DataFrame(input_data)"
   ]
  },
  {
   "cell_type": "code",
   "execution_count": 71,
   "id": "f735e8c9",
   "metadata": {},
   "outputs": [
    {
     "data": {
      "text/plain": [
       "array([88.90618899])"
      ]
     },
     "execution_count": 71,
     "metadata": {},
     "output_type": "execute_result"
    }
   ],
   "source": [
    "model.predict(input_data)"
   ]
  },
  {
   "cell_type": "code",
   "execution_count": 72,
   "id": "88656321",
   "metadata": {},
   "outputs": [],
   "source": [
    "mse=mean_squared_error(Y_test,predictions)"
   ]
  },
  {
   "cell_type": "code",
   "execution_count": 73,
   "id": "f4d01952",
   "metadata": {},
   "outputs": [
    {
     "data": {
      "text/plain": [
       "9214.111972860199"
      ]
     },
     "execution_count": 73,
     "metadata": {},
     "output_type": "execute_result"
    }
   ],
   "source": [
    "mse"
   ]
  },
  {
   "cell_type": "code",
   "execution_count": null,
   "id": "7c22c0df",
   "metadata": {},
   "outputs": [],
   "source": []
  }
 ],
 "metadata": {
  "kernelspec": {
   "display_name": "Python 3 (ipykernel)",
   "language": "python",
   "name": "python3"
  },
  "language_info": {
   "codemirror_mode": {
    "name": "ipython",
    "version": 3
   },
   "file_extension": ".py",
   "mimetype": "text/x-python",
   "name": "python",
   "nbconvert_exporter": "python",
   "pygments_lexer": "ipython3",
   "version": "3.11.5"
  }
 },
 "nbformat": 4,
 "nbformat_minor": 5
}
